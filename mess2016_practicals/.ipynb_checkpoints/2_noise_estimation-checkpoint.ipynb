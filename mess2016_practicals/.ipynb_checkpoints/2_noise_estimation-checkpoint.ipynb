{
 "cells": [
  {
   "cell_type": "markdown",
   "metadata": {},
   "source": [
    "<div style=\"background-image:url(images/meschede-seismic-waves.png); padding: 10px 30px 20px 30px; background-size:cover; background-opacity:50%; border-radius:5px; background-position: 0px -200px\">\n",
    "<p style=\"float:right; margin-top:20px; padding: 20px 60px 0px 10px; background:rgba(255,255,255,0.75); border-radius:10px;\">\n",
    "<img width=\"400px\" src=images/obspy_logo_full_524x179px.png?raw=true>\n",
    "</p>\n",
    "\n",
    "<h1 style=\"color:#BBB; padding-bottom: 80px\">MESS 2016 - Practicals</h1>\n",
    "\n",
    "<h2 style=\"color:#FFF; padding-bottom: 30px\">Noise Estimation<br/>PPSD + I95</h2>\n",
    "\n",
    "</div>\n",
    "\n",
    "### Please execute first cell to have plots show up inline (and scrollable/zoomable)\n",
    "### If you are unclear about how to use some ObsPy function: use search box at http://docs.obspy.org"
   ]
  },
  {
   "cell_type": "code",
   "execution_count": null,
   "metadata": {},
   "outputs": [],
   "source": [
    "import matplotlib.pyplot as plt\n",
    "plt.switch_backend(\"nbagg\")\n",
    "plt.style.use(\"bmh\")"
   ]
  },
  {
   "cell_type": "markdown",
   "metadata": {},
   "source": [
    "# A) PPSD\n",
    " * read waveform data from file `BW.BDGS..BHN.D.2016.035`\n",
    " * read corresponding station metadata from file `station_BDGS.stationxml`\n",
    " * print info on both waveforms and station metadata\n",
    " * (if `basemap` package is installed) plot location of station using the inventory's `plot()` method"
   ]
  },
  {
   "cell_type": "code",
   "execution_count": null,
   "metadata": {},
   "outputs": [],
   "source": [
    "# TODO: read data, print info, plot inventory\n",
    "\n",
    "st = \n",
    "inv = \n",
    "\n"
   ]
  },
  {
   "cell_type": "markdown",
   "metadata": {},
   "source": [
    " * compute probabilistic power spectral densities using `PPSD` class from obspy.signal, see http://docs.obspy.org/tutorial/code_snippets/probabilistic_power_spectral_density.html (but use the inventory you read from StationXML as metadata)\n",
    " * plot the processed `PPSD` (`plot()` method attached to `PPSD` object)"
   ]
  },
  {
   "cell_type": "code",
   "execution_count": null,
   "metadata": {},
   "outputs": [],
   "source": [
    "# TODO: compute PPSD from data\n",
    "\n"
   ]
  },
  {
   "cell_type": "markdown",
   "metadata": {},
   "source": [
    "Since longer term stacks would need too much waveform data and take too long to compute, I prepared two years continuous data preprocessed for 2 stations on three channels each to play with..\n",
    "\n",
    " * `FUR`: LMU geophysical observatory in Fürstenfeldbruck\n",
    " * `ROTZ`: Rotzenmühle, low-noise station in Bavarian network)\n",
    "\n",
    "\n",
    " * load long term pre-computed PPSD from one of the files `PPSD_(FUR|ROTZ)_HH?.npz` using `PPSD`'s `load_npz()` staticmethod (i.e. it is called directly from the class, not an instance object of the class)\n",
    " * plot the PPSD (default is full time-range, depending on how much data and spread is in the data, adjust `max_percentage` option of `plot()` option)\n",
    " * do a cumulative plot (which is good to judge non-exceedance percentage dB thresholds)"
   ]
  },
  {
   "cell_type": "code",
   "execution_count": null,
   "metadata": {},
   "outputs": [],
   "source": [
    "# TODO: load PPSD from a .npz file\n",
    "\n"
   ]
  },
  {
   "cell_type": "code",
   "execution_count": null,
   "metadata": {},
   "outputs": [],
   "source": [
    "# TODO: plot the PPSD loaded above\n",
    "\n"
   ]
  },
  {
   "cell_type": "markdown",
   "metadata": {},
   "source": [
    " * do different stacks of the data using the [`calculate_histogram()` (see docs!)](http://docs.obspy.org/packages/autogen/obspy.signal.spectral_estimation.PPSD.calculate_histogram.html) method of `PPSD` and visualize them\n",
    " * compare differences in different frequency bands qualitatively (anthropogenic vs. \"natural\" noise)..\n",
    "   * nighttime stack, daytime stack\n",
    " * (Gold card members: Use the `callback` option and use some crazy custom callback function in `calculate_histogram()`, e.g. stack together all data from birthdays in your family.. or all German holidays + Sundays in the time span.. or from dates of some bands' concerts on a tour.. etc.)"
   ]
  },
  {
   "cell_type": "code",
   "execution_count": null,
   "metadata": {},
   "outputs": [],
   "source": [
    "# TODO: do specific histogram stacks and plot, compare differences qualitatively\n",
    "\n"
   ]
  },
  {
   "cell_type": "markdown",
   "metadata": {},
   "source": [
    " * do different stacks of the data using the [`calculate_histogram()` (see docs!)](http://docs.obspy.org/packages/autogen/obspy.signal.spectral_estimation.PPSD.calculate_histogram.html) method of `PPSD` and visualize them\n",
    " * compare differences in different frequency bands qualitatively (anthropogenic vs. \"natural\" noise)..\n",
    "   * weekdays stack, weekend stack"
   ]
  },
  {
   "cell_type": "code",
   "execution_count": null,
   "metadata": {},
   "outputs": [],
   "source": [
    "# TODO: do specific histogram stacks and plot, compare differences qualitatively\n",
    "\n"
   ]
  },
  {
   "cell_type": "markdown",
   "metadata": {},
   "source": [
    " * do different stacks of the data using the [`calculate_histogram()` (see docs!)](http://docs.obspy.org/packages/autogen/obspy.signal.spectral_estimation.PPSD.calculate_histogram.html) method of `PPSD` and visualize them\n",
    " * compare differences in different frequency bands qualitatively (anthropogenic vs. \"natural\" noise)..\n",
    "   * seasonal stacks (e.g. northern hemisphere autumn vs. spring/summer, ...)"
   ]
  },
  {
   "cell_type": "code",
   "execution_count": null,
   "metadata": {},
   "outputs": [],
   "source": [
    "# TODO: do specific histogram stacks and plot, compare differences qualitatively\n",
    "\n"
   ]
  },
  {
   "cell_type": "markdown",
   "metadata": {},
   "source": [
    " * do different stacks of the data using the [`calculate_histogram()` (see docs!)](http://docs.obspy.org/packages/autogen/obspy.signal.spectral_estimation.PPSD.calculate_histogram.html) method of `PPSD` and visualize them\n",
    " * compare differences in different frequency bands qualitatively (anthropogenic vs. \"natural\" noise)..\n",
    "   * stacks by specific month\n",
    "   * maybe even combine several of above restrictions.. (e.g. only nighttime on weekends)"
   ]
  },
  {
   "cell_type": "code",
   "execution_count": null,
   "metadata": {},
   "outputs": [],
   "source": [
    "# TODO: do specific histogram stacks and plot, compare differences qualitatively\n",
    "\n"
   ]
  },
  {
   "cell_type": "markdown",
   "metadata": {},
   "source": [
    "# B) I95\n",
    " * read waveform data from file `noise_UH2_EHZ.mseed`\n",
    " * read station metadata from file `station_UH2.stationxml`\n",
    " * print info on waveforms"
   ]
  },
  {
   "cell_type": "code",
   "execution_count": null,
   "metadata": {},
   "outputs": [],
   "source": [
    "# TODO: read data, print info, plot inventory\n",
    "\n"
   ]
  },
  {
   "cell_type": "markdown",
   "metadata": {},
   "source": [
    " * work with a copy of the first trace in the stream\n",
    " * use inventory with the trace's [`remove_response(..) (see docs!)`](http://docs.obspy.org/packages/autogen/obspy.core.trace.Trace.remove_response.html) method to remove the frequency response from the data (use `plot=True` to visualize what is going on in frequency domain), going to ground velocity (ending up in `m/s`)\n",
    " * after instrument correction filter to a frequency band of choice (usually something like 0.5-20 Hz for local to regional event detection)"
   ]
  },
  {
   "cell_type": "code",
   "execution_count": null,
   "metadata": {},
   "outputs": [],
   "source": [
    "# TODO: remove response, filter\n",
    "\n"
   ]
  },
  {
   "cell_type": "markdown",
   "metadata": {},
   "source": [
    " * multiply the trace's underlying data array with `1e9` to get to `nm/s`\n",
    " * use numpy's `abs()` and `percentile()` functions, to compute the 95th percentile of absolute values in the data (due to the response removal and filtering the data should already be zero-mean -- which is of course a requirement)\n",
    " * print the I95 value of the 3 hours of data"
   ]
  },
  {
   "cell_type": "code",
   "execution_count": null,
   "metadata": {},
   "outputs": [],
   "source": [
    "# TODO: calculate and print I95 of data\n",
    "\n"
   ]
  },
  {
   "cell_type": "markdown",
   "metadata": {},
   "source": [
    " * here we do the I95 calculation in a smaller moving window over time to get some statistics..."
   ]
  },
  {
   "cell_type": "code",
   "execution_count": null,
   "metadata": {},
   "outputs": [],
   "source": [
    "import numpy as np\n",
    "import matplotlib.pyplot as plt\n",
    "# import seaborn\n",
    "from obspy import read, read_inventory\n",
    "\n",
    "st = read(\"data/noise_UH2_EHZ.mseed\")\n",
    "inv = read_inventory(\"data/station_UH2.stationxml\")\n",
    "\n",
    "tr = st[0]\n",
    "\n",
    "tr.remove_response(inventory=inv, output=\"VEL\", water_level=10, pre_filt=[0.1, 0.3, 70, 100])\n",
    "tr.filter(\"bandpass\", freqmin=0.5, freqmax=20)\n",
    "\n",
    "t = tr.stats.starttime\n",
    "# 10 minute moving window\n",
    "step = 10 * 60\n",
    "i95_list = []\n",
    "\n",
    "while t + step < tr.stats.endtime:\n",
    "    data = np.abs(tr.slice(t, t+step)) * 1e9\n",
    "    i95 = np.percentile(data, 95)\n",
    "    i95_list.append(i95)\n",
    "    t += step\n",
    "\n",
    "plt.figure()\n",
    "try:\n",
    "    import seaborn\n",
    "except ImportError:\n",
    "    plt.violinplot(i95_list)\n",
    "else:\n",
    "    seaborn.violinplot(i95_list, orient=\"v\", cut=0)\n",
    "plt.ylabel(\"I95 [nm/s]\")\n",
    "plt.figure()\n",
    "plt.plot(i95_list)\n",
    "plt.xlabel(\"moving windows\\n({} -- {})\".format(\n",
    "    tr.stats.starttime.strftime(\"%F %r\"), tr.stats.endtime.strftime(\"%F %r\")))\n",
    "plt.ylabel(\"I95 [nm/s]\")\n",
    "plt.tight_layout()\n",
    "plt.show()"
   ]
  }
 ],
 "metadata": {
  "kernelspec": {
   "display_name": "Python 3",
   "language": "python",
   "name": "python3"
  },
  "language_info": {
   "codemirror_mode": {
    "name": "ipython",
    "version": 3
   },
   "file_extension": ".py",
   "mimetype": "text/x-python",
   "name": "python",
   "nbconvert_exporter": "python",
   "pygments_lexer": "ipython3",
   "version": "3.6.10"
  }
 },
 "nbformat": 4,
 "nbformat_minor": 1
}
