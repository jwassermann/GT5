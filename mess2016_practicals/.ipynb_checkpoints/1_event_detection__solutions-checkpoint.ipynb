{
 "cells": [
  {
   "cell_type": "markdown",
   "metadata": {},
   "source": [
    "<div style=\"background-image:url(images/meschede-seismic-waves.png); padding: 10px 30px 20px 30px; background-size:cover; background-opacity:50%; border-radius:5px; background-position: 0px -200px\">\n",
    "<p style=\"float:right; margin-top:20px; padding: 20px 60px 0px 10px; background:rgba(255,255,255,0.75); border-radius:10px;\">\n",
    "<img width=\"400px\" src=images/obspy_logo_full_524x179px.png?raw=true>\n",
    "</p>\n",
    "\n",
    "<h1 style=\"color:#BBB; padding-bottom: 80px\">MESS 2016 - Practicals</h1>\n",
    "\n",
    "<h2 style=\"color:#FFF; padding-bottom: 30px\">Event Detection<br/>Triggering / Coincidence Sums / Matched Filter</h2>\n",
    "\n",
    "</div>\n",
    "\n",
    "### Please execute first cell to have plots show up inline (and scrollable/zoomable)\n",
    "### If you are unclear about how to use some ObsPy function: use search box at http://docs.obspy.org"
   ]
  },
  {
   "cell_type": "code",
   "execution_count": null,
   "metadata": {},
   "outputs": [],
   "source": [
    "import matplotlib.pyplot as plt\n",
    "plt.switch_backend(\"nbagg\")\n",
    "import warnings\n",
    "warnings.filterwarnings(\"ignore\", message='The resource identifier.*')"
   ]
  },
  {
   "cell_type": "markdown",
   "metadata": {},
   "source": [
    " * read waveform data from file `events_UH1_EHZ.mseed` (contains several events)\n",
    " * print trace information\n",
    " * do the preview plot of the stream\n",
    " * zoom to one of the big events interactively (the default for the preview plot is a memory/CPU-friendly min/max plot, which gets messy when zooming in), take a note of the time of the event"
   ]
  },
  {
   "cell_type": "code",
   "execution_count": null,
   "metadata": {},
   "outputs": [],
   "source": []
  },
  {
   "cell_type": "markdown",
   "metadata": {},
   "source": [
    " * use stream's `slice()` method to get a new stream with a small portion of the original stream, closely around event time (roughly 10-20 seconds)\n",
    " * plot the new short stream with the event\n",
    " * plot the spectrogram of event\n",
    " * take note of length of P wave onset and it's frequency content"
   ]
  },
  {
   "cell_type": "code",
   "execution_count": null,
   "metadata": {
    "scrolled": false
   },
   "outputs": [],
   "source": []
  },
  {
   "cell_type": "markdown",
   "metadata": {},
   "source": [
    " * make a copy of the waveform data stream for the triggering (the triggering changes the stream's data in place)\n",
    " * run trigger routine on it, see [`Trace.trigger(...)`](http://docs.obspy.org/packages/autogen/obspy.core.trace.Trace.trigger.html)\n",
    " \n",
    "   * adjust `sta` and `lta` options to fit well with the length of the P wave onset (see above)\n",
    "   * you can try a trigger method of choice (classic STA/LTA, recursive STA/LTA, ...)\n",
    "\n",
    "* visualize trigger on/off settings (use [`plot_trigger() function`](http://docs.obspy.org/packages/autogen/obspy.signal.trigger.plot_trigger.html) from `obspy.signal.trigger` providing both original waveform and characteristic function of trigger routine)\n",
    "\n",
    "   * try different on/off thresholds to try and detect at least the big events but not get too many false positives.."
   ]
  },
  {
   "cell_type": "code",
   "execution_count": null,
   "metadata": {},
   "outputs": [],
   "source": []
  },
  {
   "cell_type": "markdown",
   "metadata": {},
   "source": [
    " * here we provide two helper functions to summarize detection statistics (i.e. print count of detected events/missed events/false-positives)\n",
    " * execute the cell to be able use them below"
   ]
  },
  {
   "cell_type": "code",
   "execution_count": null,
   "metadata": {},
   "outputs": [],
   "source": [
    "from obspy import read_events\n",
    "from obspy.signal.trigger import trigger_onset, plot_trigger\n",
    "\n",
    "catalog_true_events = read_events(\"data/events.quakeml\")\n",
    "\n",
    "def print_trigger_statistics(trace, trigger_on, trigger_off, plot=True, **trigger_kwargs):\n",
    "    \"\"\"\n",
    "    Provide trace, trigger settings, on and off threshold.\n",
    "    Prints statistics of detected/missed events and false positives.\n",
    "    \n",
    "    Example:\n",
    "    \n",
    "        >>> print_trigger_statistics(st[0], 4, 2.5, type=\"classicstalta\", sta=2, lta=10)\n",
    "    \"\"\"\n",
    "    # evaluate the characteristic function\n",
    "    char_func = trace.copy().trigger(**trigger_kwargs).data\n",
    "    # get on/off times for given threshold values\n",
    "    on_times = trigger_onset(char_func, trigger_on, trigger_off,\n",
    "                             max_len=trace.stats.sampling_rate)[:, 0]\n",
    "    on_times = on_times / trace.stats.sampling_rate\n",
    "    event_times = []\n",
    "    # for each event remember the time of the earliest pick/origin as reference\n",
    "    for event in catalog_true_events:\n",
    "        # we just simply use the first time stamp we encounter, either the origin or some pick\n",
    "        for item in event.origins + event.picks:\n",
    "            if item.time:\n",
    "                event_times.append(item.time - trace.stats.starttime)\n",
    "                break\n",
    "    # get counts of detections and false positives\n",
    "    detected = 0\n",
    "    false_positives = 0\n",
    "    for t_trig in on_times:\n",
    "        for t_event in event_times:\n",
    "            # if trigger is within 5 seconds of an event we count it as a true detection\n",
    "            if abs(t_trig - t_event) < 5:\n",
    "                detected += 1\n",
    "                break\n",
    "        else:\n",
    "            false_positives += 1\n",
    "    print(\"Detected: {}/{}\\nMissed: {}\\nFalse Positives: {}\".format(\n",
    "        detected, len(event_times), len(event_times) - detected, false_positives))\n",
    "    if plot:\n",
    "        plot_trigger(trace, char_func, trigger_on, trigger_off)\n",
    "\n",
    "def print_coincidence_trigger_statistics(triggers):\n",
    "    \"\"\"\n",
    "    Provide output of coincidence_trigger routine.\n",
    "    Prints statistics of detected/missed events and false positives.\n",
    "    \"\"\"\n",
    "    event_times = []\n",
    "    # for each event remember the time of the earliest pick/origin as reference\n",
    "    for event in catalog_true_events:\n",
    "        # we just simply use the first time stamp we encounter, either the origin or some pick\n",
    "        for item in event.origins + event.picks:\n",
    "            if item.time:\n",
    "                event_times.append(item.time)\n",
    "                break\n",
    "    # get counts of detections and false positives\n",
    "    detected = 0\n",
    "    false_positives = 0\n",
    "    for trigger in triggers:\n",
    "        t_trig = trigger[\"time\"]\n",
    "        for t_event in event_times:\n",
    "            # if trigger is within 5 seconds of an event we count it as a true detection\n",
    "            if abs(t_trig - t_event) < 5:\n",
    "                detected += 1\n",
    "                break\n",
    "        else:\n",
    "            false_positives += 1\n",
    "    print(\"Detected: {}/{}\\nMissed: {}\\nFalse Positives: {}\".format(\n",
    "        detected, len(event_times), len(event_times) - detected, false_positives))"
   ]
  },
  {
   "cell_type": "markdown",
   "metadata": {},
   "source": [
    " * use the `print_trigger_statistics()` function defined above with the trigger settings you came up with above to check counts of detected events/missed events/false-positives"
   ]
  },
  {
   "cell_type": "code",
   "execution_count": null,
   "metadata": {},
   "outputs": [],
   "source": [
    "print_trigger_statistics(st[0], 2.6, 1.5, type=\"classicstalta\", sta=2, lta=10)"
   ]
  },
  {
   "cell_type": "markdown",
   "metadata": {},
   "source": [
    " * try to tweak trigger settings to improve the detections and suppress false positives\n",
    " \n",
    "   * filter the data to frequency band of P wave onset (see above) before triggering\n",
    "   * adjust sta/lta settings\n",
    "\n",
    " * (Gold card member exercise: do some automatic looping over various filter settings and sta/lta settings, plot the results and use the so optimized settings)\n",
    " * print optimized detection statistics again"
   ]
  },
  {
   "cell_type": "code",
   "execution_count": null,
   "metadata": {},
   "outputs": [],
   "source": [
    "st2 = st.copy()\n",
    "st2.filter(\"bandpass\", freqmin=5, freqmax=20)\n",
    "print_trigger_statistics(st2[0], 4.8, 2.5, type=\"classicstalta\", sta=1, lta=10)"
   ]
  },
  {
   "cell_type": "markdown",
   "metadata": {},
   "source": [
    " * read data for \"EHZ\" channel from all \"UH\" stations into one stream (use wildcards in filename, files `events_UH*_EHZ.mseed`)\n",
    " * pre-filter data to frequency bands used above \n",
    " * run network [`coincidence_trigger()`](http://docs.obspy.org/packages/autogen/obspy.signal.trigger.coincidence_trigger.html) (see also [trigger tutorial](https://docs.obspy.org/tutorial/code_snippets/trigger_tutorial.html#network-coincidence-trigger-example)) routine from `obspy.signal.trigger` using these four stations' vertical component"
   ]
  },
  {
   "cell_type": "code",
   "execution_count": null,
   "metadata": {},
   "outputs": [],
   "source": [
    "from obspy import read\n",
    "from obspy.signal.trigger import coincidence_trigger\n",
    "\n",
    "st = read(\"data/events_UH*_EHZ.mseed\")\n",
    "st.filter('bandpass', freqmin=5, freqmax=20)\n",
    "\n",
    "st2 = st.copy()\n",
    "triggers = coincidence_trigger(\"classicstalta\", 2.8, 1.5, st2, thr_coincidence_sum=3,\n",
    "                               trigger_off_extension=1, sta=1, lta=10)\n",
    "print_coincidence_trigger_statistics(triggers)"
   ]
  },
  {
   "cell_type": "markdown",
   "metadata": {},
   "source": [
    "#### Gold card members exercise:\n",
    " * here we provide a function that extracts event templates from the biggest events to use in `coincidence_trigger()` routine in option `event_templates`, execute the box to be able to use it below"
   ]
  },
  {
   "cell_type": "code",
   "execution_count": null,
   "metadata": {},
   "outputs": [],
   "source": [
    "def get_event_templates(plot=False, **filter_options):\n",
    "    \"\"\"\n",
    "    Provide the same filter options that are used in the coincidence trigger!\n",
    "    Otherwise the cross correlation is comparing apples and oranges..\n",
    "    \n",
    "    Example:\n",
    "    \n",
    "        >>> templates = get_event_templates(type=\"bandpass\", freqmin=10, freqmax=20)\n",
    "    \n",
    "    plot: boolean, whether to plot first 5 templates or not\n",
    "    \"\"\"\n",
    "    st_ = read(\"data/events_UH*.mseed\")\n",
    "    st_.filter('bandpass', freqmin=10, freqmax=20)\n",
    "    cat_ = read_events(\"data/events.quakeml\")\n",
    "    event_templates = {\"UH1\": [], \"UH2\": [], \"UH3\": []}\n",
    "    for event_ in cat_:\n",
    "        if event_.magnitudes[0].mag < 1:\n",
    "            continue\n",
    "        for station in event_templates.keys():\n",
    "            for pick in event_.picks:\n",
    "                if pick.waveform_id.station_code != station:\n",
    "                    continue\n",
    "                if pick.phase_hint != \"P\":\n",
    "                    continue\n",
    "                st__ = st_.select(station=station).slice(pick.time, pick.time + 2.5)\n",
    "                event_templates[station].append(st__)\n",
    "                break\n",
    "    i = 0\n",
    "    if plot:\n",
    "        for sta, st_list in event_templates.items():\n",
    "            if i > 5:\n",
    "                break\n",
    "            for st_ in st_list:\n",
    "                if i > 5:\n",
    "                    break\n",
    "                st_.plot()\n",
    "                i += 1\n",
    "        import matplotlib.pyplot as plt\n",
    "        plt.show()\n",
    "    return event_templates"
   ]
  },
  {
   "cell_type": "markdown",
   "metadata": {},
   "source": [
    "#### Gold card members exercise:\n",
    " * execute the function providing the same filter settings you use for the pre-filtering in the triggering (see example in function definition above)\n",
    " * run network coincidence trigger with standard STA/LTA with coincidence sum plus additional three-component template matching (see https://docs.obspy.org/tutorial/code_snippets/trigger_tutorial.html#advanced-network-coincidence-trigger-example-with-similarity-detection)"
   ]
  },
  {
   "cell_type": "code",
   "execution_count": null,
   "metadata": {},
   "outputs": [],
   "source": [
    "event_templates = get_event_templates(plot=False, type='bandpass', freqmin=5, freqmax=20)\n",
    "\n",
    "st = read(\"data/events_UH*_EH*.mseed\")\n",
    "st.filter(type='bandpass', freqmin=5, freqmax=20)\n",
    "similarity_thresholds = 0.5\n",
    "trace_ids = {\"BW.UH1..EHZ\": 1, \"BW.UH2..EHZ\": 1, \"BW.UH3..EHZ\": 1, \"BW.UH4..EHZ\": 1}\n",
    "\n",
    "triggers = coincidence_trigger(\n",
    "    \"classicstalta\", 2.0, 1.5, st, thr_coincidence_sum=4, sta=1, lta=10, trace_ids=trace_ids,\n",
    "    trigger_off_extension=1, event_templates=event_templates, similarity_threshold=similarity_thresholds)\n",
    "print_coincidence_trigger_statistics(triggers)"
   ]
  }
 ],
 "metadata": {
  "kernelspec": {
   "display_name": "Python 3",
   "language": "python",
   "name": "python3"
  },
  "language_info": {
   "codemirror_mode": {
    "name": "ipython",
    "version": 3
   },
   "file_extension": ".py",
   "mimetype": "text/x-python",
   "name": "python",
   "nbconvert_exporter": "python",
   "pygments_lexer": "ipython3",
   "version": "3.8.6"
  }
 },
 "nbformat": 4,
 "nbformat_minor": 1
}
